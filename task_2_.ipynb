{
  "nbformat": 4,
  "nbformat_minor": 0,
  "metadata": {
    "colab": {
      "provenance": [],
      "authorship_tag": "ABX9TyNTAe5sA1/YFWNZyHhO5+qt",
      "include_colab_link": true
    },
    "kernelspec": {
      "name": "python3",
      "display_name": "Python 3"
    },
    "language_info": {
      "name": "python"
    }
  },
  "cells": [
    {
      "cell_type": "markdown",
      "metadata": {
        "id": "view-in-github",
        "colab_type": "text"
      },
      "source": [
        "<a href=\"https://colab.research.google.com/github/srirama0966/colab-programs/blob/main/task_2_.ipynb\" target=\"_parent\"><img src=\"https://colab.research.google.com/assets/colab-badge.svg\" alt=\"Open In Colab\"/></a>"
      ]
    },
    {
      "cell_type": "markdown",
      "source": [
        "write any  program is goggle colab using hard coding **variables**"
      ],
      "metadata": {
        "id": "okMI0eo1mo4f"
      }
    },
    {
      "cell_type": "markdown",
      "source": [
        "1.\tHardcoding Variables: Demonstrate by using predefined values."
      ],
      "metadata": {
        "id": "E-KLyaLpmvRf"
      }
    },
    {
      "cell_type": "code",
      "source": [
        "\n",
        "a = 70\n",
        "b = 140\n",
        "\n",
        "result = a + b\n",
        "\n",
        "print(f\"Hardcoded Addition: {a} + {b} = {result}\")"
      ],
      "metadata": {
        "colab": {
          "base_uri": "https://localhost:8080/"
        },
        "id": "sMfPx5AKnESV",
        "outputId": "692fb218-8ece-44c1-ac6d-7b4040466103"
      },
      "execution_count": 2,
      "outputs": [
        {
          "output_type": "stream",
          "name": "stdout",
          "text": [
            "Hardcoded Addition: 70 + 140 = 210\n"
          ]
        }
      ]
    },
    {
      "cell_type": "markdown",
      "source": [
        "2.\tKeyboard Input: Use Python's input() to accept data from the user."
      ],
      "metadata": {
        "id": "MYOfKKq0oG59"
      }
    },
    {
      "cell_type": "code",
      "source": [
        "\n",
        "\n",
        "try:\n",
        "\n",
        "    x = int(input(\"Enter the first number: \"))\n",
        "    y = int(input(\"Enter the second number: \"))\n",
        "\n",
        "    result = x + y\n",
        "\n",
        "    print(f\"User Input Addition: {x} + {y} = {result}\")\n",
        "except ValueError:\n",
        "\n",
        "    print(\"Please enter valid integers!\")\n"
      ],
      "metadata": {
        "colab": {
          "base_uri": "https://localhost:8080/"
        },
        "id": "XndfmBbPoNq9",
        "outputId": "57fa35ca-4853-4ae8-c0ca-cb38398e44bc"
      },
      "execution_count": 7,
      "outputs": [
        {
          "output_type": "stream",
          "name": "stdout",
          "text": [
            "Enter the first number: 8\n",
            "Enter the second number: 96\n",
            "User Input Addition: 8 + 96 = 104\n"
          ]
        }
      ]
    },
    {
      "cell_type": "markdown",
      "source": [
        "3.\tRead From File (Single Input): Read a single input from a file."
      ],
      "metadata": {
        "id": "a5U9EEkTp8yE"
      }
    },
    {
      "cell_type": "code",
      "source": [
        "\n",
        "with open(\"single_input.txt\", \"w\") as f:\n",
        "    f.write(\"80\")\n",
        "\n",
        "\n",
        "try:\n",
        "    with open(\"single_input.txt\", \"r\") as f:\n",
        "\n",
        "        num = int(f.read().strip())\n",
        "        result = num * 2\n",
        "\n",
        "\n",
        "        print(f\"Single Input Read from File: {num} * 2 = {result}\")\n",
        "except FileNotFoundError:\n",
        "\n",
        "    print(\"File not found!\")\n",
        "except ValueError:\n",
        "\n",
        "    print(\"Error in reading or converting the input!\")\n"
      ],
      "metadata": {
        "colab": {
          "base_uri": "https://localhost:8080/"
        },
        "id": "NZz0ztXSqBzV",
        "outputId": "dbc62ba2-82d0-43f2-f847-1105212c9835"
      },
      "execution_count": 9,
      "outputs": [
        {
          "output_type": "stream",
          "name": "stdout",
          "text": [
            "Single Input Read from File: 80 * 2 = 160\n"
          ]
        }
      ]
    },
    {
      "cell_type": "markdown",
      "source": [
        "4.\tRead From File (Multiple Inputs): Read multiple inputs from a file and process them."
      ],
      "metadata": {
        "id": "uK9Uti82q3UE"
      }
    },
    {
      "cell_type": "code",
      "source": [
        "\n",
        "with open(\"multiple_inputs.txt\", \"w\") as file:\n",
        "    file.write(\"3\\n4\\n9\")\n",
        "\n",
        "\n",
        "try:\n",
        "    with open(\"multiple_inputs.txt\", \"r\") as file:\n",
        "\n",
        "        numbers = [int(line.strip()) for line in file.readlines()]\n",
        "\n",
        "\n",
        "        result = sum(numbers)\n",
        "\n",
        "\n",
        "        print(f\"Multiple Inputs Read from File: {numbers}, Sum = {result}\")\n",
        "except FileNotFoundError:\n",
        "\n",
        "    print(\"File not found!\")\n",
        "except ValueError:\n",
        "\n",
        "    print(\"Error in reading or converting the inputs!\")\n"
      ],
      "metadata": {
        "colab": {
          "base_uri": "https://localhost:8080/"
        },
        "id": "xMebBQpYq_jc",
        "outputId": "783074ff-2fd8-412d-d903-d7413a72a768"
      },
      "execution_count": 11,
      "outputs": [
        {
          "output_type": "stream",
          "name": "stdout",
          "text": [
            "Multiple Inputs Read from File: [3, 4, 9], Sum = 16\n"
          ]
        }
      ]
    }
  ]
}